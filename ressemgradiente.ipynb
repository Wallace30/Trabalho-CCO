import numpy as np
import matplotlib.pyplot as plt

# Função de custo (exemplo: função quadrática)
def custo(theta):
    return np.sum((theta - 5) ** 2)

# Parâmetros iniciais
theta_inicial = 0.0
taxa_aprendizado = 0.1
num_iteracoes = 100

# Plotar gráfico do custo com valor inicial de theta
theta_range = np.linspace(0, 10, 100)  # Faixa de valores para theta
custo_valores = [custo(theta) for theta in theta_range]  # Calcular custo para cada valor de theta

plt.figure(figsize=(10, 5))
plt.plot(theta_range, custo_valores, label='Custo')
plt.scatter(theta_inicial, custo(theta_inicial), color='red', label='Valor Inicial de Theta')
plt.xlabel('Theta')
plt.ylabel('Custo')
plt.title('Gráfico de Custo com Valor Inicial de Theta')
plt.legend()
plt.grid(True)
plt.show()

# Plotar gráfico de theta com valor inicial
theta_valores = [theta_inicial] * num_iteracoes  # Lista de valores iniciais de theta ao longo das iterações

plt.figure(figsize=(10, 5))
plt.plot(range(num_iteracoes), theta_valores, label='Theta')
plt.axhline(y=5, color='r', linestyle='--', label='Valor Ótimo')
plt.xlabel('Iteração')
plt.ylabel('Theta')
plt.title('Gráfico de Theta com Valor Inicial')
plt.legend()
plt.grid(True)
plt.show()
