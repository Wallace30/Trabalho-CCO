import numpy as np
import matplotlib.pyplot as plt

# Função de custo (exemplo: função quadrática)
def custo(theta):
    return np.sum((theta - 5) ** 2)

# Derivada da função de custo
def derivada_custo(theta):
    return 2 * (theta - 5)

# Gradiente descendente com plotagem
def gradiente_descendente_plot(theta_inicial, taxa_aprendizado, num_iteracoes):
    theta = theta_inicial
    theta_hist = [theta]  # Lista para armazenar valores de theta ao longo das iterações
    custo_hist = [custo(theta)]  # Lista para armazenar valores de custo ao longo das iterações

    for _ in range(num_iteracoes):
        gradiente = derivada_custo(theta)
        theta -= taxa_aprendizado * gradiente
        theta_hist.append(theta)
        custo_hist.append(custo(theta))

    return theta_hist, custo_hist

# Parâmetros iniciais
theta_inicial = 0.0
taxa_aprendizado = 0.1
num_iteracoes = 100

# Executar gradiente descendente com plotagem
theta_hist, custo_hist = gradiente_descendente_plot(theta_inicial, taxa_aprendizado, num_iteracoes)

# Plotar gráfico do custo ao longo das iterações
plt.figure(figsize=(10, 5))
plt.plot(custo_hist, label='Custo')
plt.xlabel('Iteração')
plt.ylabel('Custo')
plt.title('Custo ao Longo das Iterações')
plt.legend()
plt.grid(True)
plt.show()

# Plotar gráfico da convergência de theta
plt.figure(figsize=(10, 5))
plt.plot(theta_hist, label='Theta')
plt.axhline(y=5, color='r', linestyle='--', label='Valor Ótimo')
plt.xlabel('Iteração')
plt.ylabel('Theta')
plt.title('Convergência de Theta')
plt.legend()
plt.grid(True)
plt.show()